{
 "cells": [
  {
   "cell_type": "code",
   "execution_count": 2,
   "metadata": {},
   "outputs": [],
   "source": [
    "import pandas as pd\n",
    "import matplotlib.pyplot as plt\n",
    "import seaborn as sns\n"
   ]
  },
  {
   "cell_type": "code",
   "execution_count": 5,
   "metadata": {},
   "outputs": [],
   "source": [
    "# Read the Parquet file\n",
    "file_path = '../Dataset/train.parquet/partition_id=0/part-0.parquet'\n",
    "data = pd.read_parquet(file_path)"
   ]
  },
  {
   "cell_type": "code",
   "execution_count": 8,
   "metadata": {},
   "outputs": [],
   "source": [
    "# Read the Parquet file\n",
    "file_path = '../Dataset/lags.parquet/date_id=0/part-0.parquet'\n",
    "data = pd.read_parquet(file_path)"
   ]
  },
  {
   "cell_type": "markdown",
   "metadata": {},
   "source": [
    "## Display first 10 Rows"
   ]
  },
  {
   "cell_type": "code",
   "execution_count": 9,
   "metadata": {},
   "outputs": [
    {
     "name": "stdout",
     "output_type": "stream",
     "text": [
      "   date_id  time_id  symbol_id  responder_0_lag_1  responder_1_lag_1  \\\n",
      "0        0        0          0          -0.442215          -0.322407   \n",
      "1        0        0          1          -0.651829          -1.707840   \n",
      "2        0        0          2          -0.656373          -0.264575   \n",
      "3        0        0          3          -0.188186          -0.190970   \n",
      "4        0        0          4          -0.257462          -0.471325   \n",
      "5        0        0          5           0.027579          -0.020169   \n",
      "6        0        0          6          -0.419646          -0.181228   \n",
      "7        0        0          7          -0.114118          -0.198511   \n",
      "8        0        0          8          -0.374147           0.092127   \n",
      "9        0        0          9          -0.529529           0.040104   \n",
      "\n",
      "   responder_2_lag_1  responder_3_lag_1  responder_4_lag_1  responder_5_lag_1  \\\n",
      "0           0.143594          -0.926890          -0.782236          -0.036595   \n",
      "1          -0.893942          -1.065488          -1.871338          -0.615652   \n",
      "2          -0.892879          -1.511886          -1.033480          -0.378265   \n",
      "3          -0.701490           0.098453          -1.015506          -0.054984   \n",
      "4          -0.297420           0.074018          -0.324194          -0.597093   \n",
      "5           0.640348          -0.948373          -0.374251          -0.240350   \n",
      "6          -0.194079           0.667993           0.936857           0.517728   \n",
      "7          -0.200027          -0.410021          -0.135167          -0.182887   \n",
      "8           0.294723           0.402989           2.060188          -0.225042   \n",
      "9          -0.333090          -0.959040          -1.318411          -0.774299   \n",
      "\n",
      "   responder_6_lag_1  responder_7_lag_1  responder_8_lag_1  \n",
      "0          -1.305746          -0.795677          -0.143724  \n",
      "1          -1.162801          -1.205924          -1.245934  \n",
      "2          -1.574290          -1.863071          -0.027343  \n",
      "3           0.329152          -0.965471           0.576635  \n",
      "4           0.219856          -0.276356          -0.904790  \n",
      "5          -0.913801          -0.548867          -1.283726  \n",
      "6           0.896325           1.068884           1.579290  \n",
      "7          -0.492168          -0.142915          -0.202081  \n",
      "8           0.956460           2.185598          -0.435856  \n",
      "9          -0.716492          -1.471419          -1.107083  \n",
      "Columns in the dataset:\n",
      "Index(['date_id', 'time_id', 'symbol_id', 'responder_0_lag_1',\n",
      "       'responder_1_lag_1', 'responder_2_lag_1', 'responder_3_lag_1',\n",
      "       'responder_4_lag_1', 'responder_5_lag_1', 'responder_6_lag_1',\n",
      "       'responder_7_lag_1', 'responder_8_lag_1'],\n",
      "      dtype='object')\n"
     ]
    }
   ],
   "source": [
    "# Display the first 10 rows of the dataframe\n",
    "print(data.head(10))\n",
    "\n",
    "# Optionally, display the columns\n",
    "print(\"Columns in the dataset:\")\n",
    "print(data.columns)"
   ]
  },
  {
   "cell_type": "markdown",
   "metadata": {},
   "source": [
    "### Display Symbol_id = 1"
   ]
  },
  {
   "cell_type": "code",
   "execution_count": 10,
   "metadata": {},
   "outputs": [
    {
     "name": "stdout",
     "output_type": "stream",
     "text": [
      "   date_id  time_id  symbol_id  responder_0_lag_1  responder_1_lag_1  \\\n",
      "7        0        0          7          -0.114118          -0.198511   \n",
      "\n",
      "   responder_2_lag_1  responder_3_lag_1  responder_4_lag_1  responder_5_lag_1  \\\n",
      "7          -0.200027          -0.410021          -0.135167          -0.182887   \n",
      "\n",
      "   responder_6_lag_1  responder_7_lag_1  responder_8_lag_1  \n",
      "7          -0.492168          -0.142915          -0.202081  \n",
      "Columns in the dataset:\n",
      "Index(['date_id', 'time_id', 'symbol_id', 'responder_0_lag_1',\n",
      "       'responder_1_lag_1', 'responder_2_lag_1', 'responder_3_lag_1',\n",
      "       'responder_4_lag_1', 'responder_5_lag_1', 'responder_6_lag_1',\n",
      "       'responder_7_lag_1', 'responder_8_lag_1'],\n",
      "      dtype='object')\n"
     ]
    }
   ],
   "source": [
    "# Filter data for symbol_id 1\n",
    "symbol_id_1_data = data[data['symbol_id'] == 7]\n",
    "\n",
    "# Display the first 10 rows of the filtered dataframe\n",
    "print(symbol_id_1_data.head(10))\n",
    "\n",
    "# Optionally, display the columns\n",
    "print(\"Columns in the dataset:\")\n",
    "print(symbol_id_1_data.columns)"
   ]
  },
  {
   "cell_type": "code",
   "execution_count": null,
   "metadata": {},
   "outputs": [],
   "source": []
  }
 ],
 "metadata": {
  "kernelspec": {
   "display_name": "Python 3",
   "language": "python",
   "name": "python3"
  },
  "language_info": {
   "codemirror_mode": {
    "name": "ipython",
    "version": 3
   },
   "file_extension": ".py",
   "mimetype": "text/x-python",
   "name": "python",
   "nbconvert_exporter": "python",
   "pygments_lexer": "ipython3",
   "version": "3.11.11"
  }
 },
 "nbformat": 4,
 "nbformat_minor": 2
}
